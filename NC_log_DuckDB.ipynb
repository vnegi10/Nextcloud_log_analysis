{
 "cells": [
  {
   "cell_type": "code",
   "execution_count": 1,
   "id": "1e36da9f-a933-46b8-9d0f-362dccacc67f",
   "metadata": {
    "tags": []
   },
   "outputs": [],
   "source": [
    "import duckdb\n",
    "#import json"
   ]
  },
  {
   "cell_type": "markdown",
   "id": "58657009-c073-4266-a43a-ed2045f048f8",
   "metadata": {},
   "source": [
    "### Repair JSON input"
   ]
  },
  {
   "cell_type": "code",
   "execution_count": 2,
   "id": "5067dc02-e3ef-4b44-9cd9-313e0771d147",
   "metadata": {
    "tags": []
   },
   "outputs": [],
   "source": [
    "valid_entries = []\n",
    "with open(\"nextcloud.log.json\", \"r\", encoding=\"utf-8\") as f:\n",
    "    for line in f:\n",
    "        try:\n",
    "            # Process each line as a JSON object\n",
    "            valid_entries.append(json.loads(line))  \n",
    "        except json.JSONDecodeError:\n",
    "            print(\"Skipping malformed line\")\n",
    "\n",
    "# Save the repaired JSON\n",
    "with open(\"fixed_nextcloud.log.json\", \"w\", encoding=\"utf-8\") as f:\n",
    "    json.dump(valid_entries, f, separators=(',', ':'))"
   ]
  },
  {
   "cell_type": "markdown",
   "id": "e8a13475-9fb5-47cb-ad45-040071255dba",
   "metadata": {},
   "source": [
    "### Ingest and group data"
   ]
  },
  {
   "cell_type": "code",
   "execution_count": 36,
   "id": "2322dec8-794d-42ee-b129-9746a4fd6c04",
   "metadata": {
    "tags": []
   },
   "outputs": [
    {
     "name": "stdout",
     "output_type": "stream",
     "text": [
      "┌─────────────────┬───────┐\n",
      "│ remoteAddr_inet │ count │\n",
      "│      inet       │ int64 │\n",
      "├─────────────────┼───────┤\n",
      "│ 115.159.220.67  │  1610 │\n",
      "│ 91.250.240.220  │   166 │\n",
      "│ 20.163.106.32   │   148 │\n",
      "│ 94.102.61.7     │   116 │\n",
      "│ 198.98.183.135  │    90 │\n",
      "│ 185.242.226.109 │    67 │\n",
      "│ 185.242.226.88  │    54 │\n",
      "│ 34.140.248.32   │    38 │\n",
      "│ 130.211.54.158  │    38 │\n",
      "│ 34.77.127.183   │    37 │\n",
      "│      ·          │     · │\n",
      "│      ·          │     · │\n",
      "│      ·          │     · │\n",
      "│ 61.6.203.162    │     1 │\n",
      "│ 172.177.94.54   │     1 │\n",
      "│ 147.78.47.90    │     1 │\n",
      "│ 54.237.219.112  │     1 │\n",
      "│ 47.245.112.112  │     1 │\n",
      "│ 34.140.124.166  │     1 │\n",
      "│ 149.18.73.140   │     1 │\n",
      "│ 34.140.65.158   │     1 │\n",
      "│ 88.215.26.222   │     1 │\n",
      "│ 35.241.185.104  │     1 │\n",
      "├─────────────────┴───────┤\n",
      "│   319 rows (20 shown)   │\n",
      "└─────────────────────────┘\n",
      "\n",
      "CPU times: user 4.89 s, sys: 397 ms, total: 5.29 s\n",
      "Wall time: 5.28 s\n"
     ]
    }
   ],
   "source": [
    "%%time\n",
    "\n",
    "json_input = duckdb.read_json(\"fixed_nextcloud.log.json\")\n",
    "\n",
    "domain_errors = duckdb.sql(\"\"\"\n",
    "                       SELECT *\n",
    "                       FROM json_input\n",
    "                       WHERE message LIKE '%Trusted domain error%'\n",
    "                       -- LIMIT 10\n",
    "                           \"\"\")\n",
    "\n",
    "gby_user_agent = duckdb.sql(\"\"\"\n",
    "                        SELECT CAST(remoteAddr AS INET) AS remoteAddr_inet,\n",
    "                        COUNT(*) AS count\n",
    "                        FROM domain_errors\n",
    "                        WHERE userAgent LIKE '%python-requests%'\n",
    "                        GROUP BY remoteAddr\n",
    "                        ORDER BY count DESC\n",
    "                             \"\"\")\n",
    "\n",
    "print(gby_user_agent)"
   ]
  },
  {
   "cell_type": "code",
   "execution_count": 32,
   "id": "06552332-3cd6-438c-81fb-f832305b8d30",
   "metadata": {
    "tags": []
   },
   "outputs": [],
   "source": [
    "# domain_errors = duckdb.sql(\"\"\"\n",
    "#                        SELECT time, remoteAddr, userAgent\n",
    "#                        FROM json_input\n",
    "#                        WHERE message LIKE '%Trusted domain error%'\n",
    "#                        AND userAgent LIKE '%bot%'\n",
    "#                        --- LIMIT 10\n",
    "#                            \"\"\")\n",
    "\n",
    "# print(domain_errors)"
   ]
  },
  {
   "cell_type": "code",
   "execution_count": 33,
   "id": "6a6b1d4f-cc6d-4f01-8528-f521c92aa47e",
   "metadata": {
    "tags": []
   },
   "outputs": [],
   "source": [
    "# login_errors = duckdb.sql(\"\"\"\n",
    "#                        SELECT time, remoteAddr, message, \n",
    "#                        FROM json_input\n",
    "#                        WHERE message LIKE '%Login failed%'\n",
    "#                        AND message NOT LIKE '%vnegi10%'\n",
    "#                        AND message NOT LIKE '%mdash%'\n",
    "#                        --- LIMIT 10\n",
    "#                            \"\"\")\n",
    "\n",
    "# print(login_errors)"
   ]
  },
  {
   "cell_type": "markdown",
   "id": "c705a890-49a5-4bdb-ac26-4dca5bf5ebbe",
   "metadata": {
    "tags": []
   },
   "source": [
    "### Read IP database and join to group"
   ]
  },
  {
   "cell_type": "code",
   "execution_count": 37,
   "id": "d609a596-4cef-45f5-862e-e14453618407",
   "metadata": {
    "tags": []
   },
   "outputs": [
    {
     "name": "stdout",
     "output_type": "stream",
     "text": [
      "┌─────────────────┬───────┬─────────┬──────────────────┬─────────────────────────────────────┐\n",
      "│ remoteAddr_inet │ count │ country │    stateprov     │                city                 │\n",
      "│      inet       │ int64 │ varchar │     varchar      │               varchar               │\n",
      "├─────────────────┼───────┼─────────┼──────────────────┼─────────────────────────────────────┤\n",
      "│ 115.159.220.67  │  1610 │ CN      │ Shanghai         │ Shanghai                            │\n",
      "│ 91.250.240.220  │   166 │ PT      │ Lisbon           │ Lisbon                              │\n",
      "│ 20.163.106.32   │   148 │ US      │ Arizona          │ Phoenix                             │\n",
      "│ 94.102.61.7     │   116 │ NL      │ North Holland    │ Amsterdam                           │\n",
      "│ 185.242.226.109 │    67 │ NL      │ North Holland    │ Amsterdam                           │\n",
      "│ 185.242.226.88  │    54 │ NL      │ North Holland    │ Amsterdam                           │\n",
      "│ 130.211.54.158  │    38 │ BE      │ Brussels Capital │ Brussels                            │\n",
      "│ 34.140.248.32   │    38 │ BE      │ Brussels Capital │ Brussels                            │\n",
      "│ 34.77.127.183   │    37 │ BE      │ Brussels Capital │ Brussels                            │\n",
      "│ 104.199.31.214  │    36 │ BE      │ Brussels Capital │ Brussels                            │\n",
      "│       ·         │     · │ ·       │    ·             │    ·                                │\n",
      "│       ·         │     · │ ·       │    ·             │    ·                                │\n",
      "│       ·         │     · │ ·       │    ·             │    ·                                │\n",
      "│ 207.244.228.8   │     1 │ US      │ Missouri         │ St Louis (Downtown)                 │\n",
      "│ 133.18.218.12   │     1 │ JP      │ Tokyo            │ Chiyoda                             │\n",
      "│ 35.195.93.5     │     1 │ BE      │ Brussels Capital │ Brussels                            │\n",
      "│ 138.199.6.226   │     1 │ CH      │ Zurich           │ Zurich                              │\n",
      "│ 34.140.160.62   │     1 │ BE      │ Brussels Capital │ Brussels                            │\n",
      "│ 34.38.233.156   │     1 │ BE      │ Brussels Capital │ Brussels                            │\n",
      "│ 34.22.216.244   │     1 │ BE      │ Brussels Capital │ Brussels                            │\n",
      "│ 80.66.83.180    │     1 │ RU      │ Moscow           │ Moscow                              │\n",
      "│ 62.72.45.33     │     1 │ SG      │ NULL             │ Singapore                           │\n",
      "│ 61.6.203.162    │     1 │ BN      │ Brunei-Muara     │ Bandar Seri Begawan (Anggerek Desa) │\n",
      "├─────────────────┴───────┴─────────┴──────────────────┴─────────────────────────────────────┤\n",
      "│ 285 rows (20 shown)                                                              5 columns │\n",
      "└────────────────────────────────────────────────────────────────────────────────────────────┘\n",
      "\n",
      "CPU times: user 25.4 s, sys: 6.09 s, total: 31.5 s\n",
      "Wall time: 5.14 s\n"
     ]
    }
   ],
   "source": [
    "%%time\n",
    "\n",
    "ipv4_city = duckdb.sql(\"\"\"\n",
    "                SELECT * \n",
    "                FROM read_csv('dbip-city-lite-2025-02.csv',\n",
    "                               columns = {\n",
    "                               'ip_start': 'VARCHAR(15)',\n",
    "                               'ip_end': 'VARCHAR(15)', \n",
    "                               'continent': 'VARCHAR(2)',\n",
    "                               'country': 'VARCHAR(2)',\n",
    "                               'stateprov': 'TEXT',\n",
    "                               'city': 'TEXT',\n",
    "                               'latitude': 'FLOAT',\n",
    "                               'longitude': 'FLOAT'\n",
    "                               }, \n",
    "                               header = False,\n",
    "                               ignore_errors = true)\n",
    "                WHERE ip_start LIKE '%.%'\n",
    "                      \"\"\")\n",
    "\n",
    "ipv4_city_subset = duckdb.sql(\"\"\"\n",
    "                        SELECT CAST(ip_start as INET) AS ip_start_inet, \n",
    "                               CAST(ip_end as INET) AS ip_end_inet,\n",
    "                               country,\n",
    "                               stateprov,\n",
    "                               city\n",
    "                        FROM ipv4_city\n",
    "                        -- LIMIT 10\n",
    "                            \"\"\")\n",
    "\n",
    "gby_user_agent_city_join = duckdb.sql(\"\"\"\n",
    "                                SELECT gua.remoteAddr_inet,\n",
    "                                       gua.count,\n",
    "                                       ics.country,\n",
    "                                       ics.stateprov,\n",
    "                                       ics.city\n",
    "                                FROM gby_user_agent gua\n",
    "                                JOIN ipv4_city_subset ics\n",
    "                                ON gua.remoteAddr_inet\n",
    "                                BETWEEN ics.ip_start_inet AND ics.ip_end_inet\n",
    "                                ORDER BY count DESC\n",
    "                                \"\"\")\n",
    "\n",
    "print(gby_user_agent_city_join)"
   ]
  },
  {
   "cell_type": "markdown",
   "id": "e09c2fc8-bb92-46c1-b439-684c37abfd8f",
   "metadata": {
    "tags": []
   },
   "source": [
    "### Read ASN database and join to group"
   ]
  },
  {
   "cell_type": "code",
   "execution_count": 38,
   "id": "8e03f1f3-3f46-4409-bcbd-fc6fb4e2bbcd",
   "metadata": {
    "tags": []
   },
   "outputs": [
    {
     "name": "stdout",
     "output_type": "stream",
     "text": [
      "┌─────────────────┬───────┬─────────┬──────────────────┬────────────┬───────────────────────────────────────────────────┐\n",
      "│ remoteAddr_inet │ count │ country │    stateprov     │    city    │                      as_org                       │\n",
      "│      inet       │ int64 │ varchar │     varchar      │  varchar   │                      varchar                      │\n",
      "├─────────────────┼───────┼─────────┼──────────────────┼────────────┼───────────────────────────────────────────────────┤\n",
      "│ 115.159.220.67  │  1610 │ CN      │ Shanghai         │ Shanghai   │ Shenzhen Tencent Computer Systems Company Limited │\n",
      "│ 91.250.240.220  │   166 │ PT      │ Lisbon           │ Lisbon     │ HostRoyale Technologies Pvt Ltd                   │\n",
      "│ 20.163.106.32   │   148 │ US      │ Arizona          │ Phoenix    │ Microsoft Corporation                             │\n",
      "│ 94.102.61.7     │   116 │ NL      │ North Holland    │ Amsterdam  │ IP Volume inc                                     │\n",
      "│ 185.242.226.109 │    67 │ NL      │ North Holland    │ Amsterdam  │ IP Volume inc                                     │\n",
      "│ 185.242.226.88  │    54 │ NL      │ North Holland    │ Amsterdam  │ IP Volume inc                                     │\n",
      "│ 34.140.248.32   │    38 │ BE      │ Brussels Capital │ Brussels   │ Google LLC                                        │\n",
      "│ 130.211.54.158  │    38 │ BE      │ Brussels Capital │ Brussels   │ Google LLC                                        │\n",
      "│ 34.77.127.183   │    37 │ BE      │ Brussels Capital │ Brussels   │ Google LLC                                        │\n",
      "│ 104.199.31.214  │    36 │ BE      │ Brussels Capital │ Brussels   │ Google LLC                                        │\n",
      "│       ·         │     · │ ·       │       ·          │    ·       │     ·                                             │\n",
      "│       ·         │     · │ ·       │       ·          │    ·       │     ·                                             │\n",
      "│       ·         │     · │ ·       │       ·          │    ·       │     ·                                             │\n",
      "│ 91.92.244.183   │     1 │ NL      │ North Holland    │ Amsterdam  │ NTT America, Inc.                                 │\n",
      "│ 88.207.17.76    │     1 │ HR      │ Zagreb County    │ Mičevec    │ A1 Hrvatska d.o.o.                                │\n",
      "│ 34.76.82.242    │     1 │ BE      │ Brussels Capital │ Brussels   │ Google LLC                                        │\n",
      "│ 85.239.246.128  │     1 │ US      │ Missouri         │ St Louis   │ Nubes, LLC                                        │\n",
      "│ 34.77.147.125   │     1 │ BE      │ Brussels Capital │ Brussels   │ Google LLC                                        │\n",
      "│ 34.140.160.62   │     1 │ BE      │ Brussels Capital │ Brussels   │ Google LLC                                        │\n",
      "│ 35.240.38.255   │     1 │ BE      │ Brussels Capital │ Brussels   │ Google LLC                                        │\n",
      "│ 35.205.152.90   │     1 │ BE      │ Brussels Capital │ Brussels   │ Google LLC                                        │\n",
      "│ 20.42.92.13     │     1 │ US      │ Virginia         │ Washington │ Microsoft Corporation                             │\n",
      "│ 20.203.251.171  │     1 │ CH      │ Zurich           │ Zurich     │ Microsoft Corporation                             │\n",
      "├─────────────────┴───────┴─────────┴──────────────────┴────────────┴───────────────────────────────────────────────────┤\n",
      "│ 283 rows (20 shown)                                                                                         6 columns │\n",
      "└───────────────────────────────────────────────────────────────────────────────────────────────────────────────────────┘\n",
      "\n"
     ]
    }
   ],
   "source": [
    "asn = duckdb.sql(\"\"\"\n",
    "                SELECT * \n",
    "                FROM read_csv('dbip-asn-lite-2025-02.csv',\n",
    "                               columns = {\n",
    "                               'ip_start': 'VARCHAR(15)',\n",
    "                               'ip_end': 'VARCHAR(15)',\n",
    "                               'as_number': 'INT',\n",
    "                               'as_org': 'TEXT'                              \n",
    "                               }, \n",
    "                               header = False,\n",
    "                               ignore_errors = true)\n",
    "                WHERE ip_start LIKE '%.%'\n",
    "                      \"\"\")\n",
    "\n",
    "asn_subset = duckdb.sql(\"\"\"\n",
    "                        SELECT CAST(ip_start as INET) AS ip_start_inet, \n",
    "                               CAST(ip_end as INET) AS ip_end_inet,\n",
    "                               as_org,\n",
    "                        FROM asn\n",
    "                        -- LIMIT 10\n",
    "                            \"\"\")\n",
    "\n",
    "gby_user_agent_city_asn_join = duckdb.sql(\"\"\"\n",
    "                                SELECT gua.remoteAddr_inet,\n",
    "                                       gua.count,\n",
    "                                       gua.country,\n",
    "                                       gua.stateprov,\n",
    "                                       gua.city,\n",
    "                                       asn.as_org\n",
    "                                FROM gby_user_agent_city_join gua\n",
    "                                JOIN asn_subset asn\n",
    "                                ON gua.remoteAddr_inet\n",
    "                                BETWEEN asn.ip_start_inet AND asn.ip_end_inet\n",
    "                                ORDER BY count DESC\n",
    "                                \"\"\")\n",
    "\n",
    "print(gby_user_agent_city_asn_join)"
   ]
  },
  {
   "cell_type": "markdown",
   "id": "cbd11802-c543-48a5-aabd-876d4bd3c0ee",
   "metadata": {},
   "source": [
    "### Performance - Full query"
   ]
  },
  {
   "cell_type": "code",
   "execution_count": 40,
   "id": "ef263dce-ebea-4896-8f15-59acbf074f9f",
   "metadata": {
    "tags": []
   },
   "outputs": [
    {
     "name": "stdout",
     "output_type": "stream",
     "text": [
      "┌─────────────────┬───────┬─────────┬───────────────────────┬─────────────────────────────────────┬────────────────────────────────────────────┐\n",
      "│ remoteAddr_inet │ count │ country │       stateprov       │                city                 │                   as_org                   │\n",
      "│      inet       │ int64 │ varchar │        varchar        │               varchar               │                  varchar                   │\n",
      "├─────────────────┼───────┼─────────┼───────────────────────┼─────────────────────────────────────┼────────────────────────────────────────────┤\n",
      "│ 156.38.245.18   │  7102 │ ZA      │ Gauteng               │ Johannesburg                        │ Xneelo (Pty) Ltd                           │\n",
      "│ 103.121.39.54   │  1323 │ BD      │ Chittagong            │ Chittagong (Chawk Bazar)            │ Digital Dot Net                            │\n",
      "│ 3.236.57.159    │  1312 │ US      │ Virginia              │ Ashburn                             │ Amazon.com, Inc.                           │\n",
      "│ 185.231.154.40  │   760 │ RU      │ Moscow                │ Moscow                              │ Hosting technology LTD                     │\n",
      "│ 185.134.23.83   │   229 │ GB      │ England               │ London                              │ Hydra Communications Ltd                   │\n",
      "│ 141.98.11.107   │   136 │ LT      │ Kaunas                │ Kaunas                              │ UAB Host Baltic                            │\n",
      "│ 78.153.140.179  │    90 │ GB      │ England               │ London                              │ HOSTGLOBAL.PLUS LTD                        │\n",
      "│ 148.153.45.234  │    83 │ US      │ California            │ Los Angeles                         │ CDS Global Cloud Co., Ltd                  │\n",
      "│ 123.125.21.148  │    62 │ CN      │ Beijing               │ Jinrongjie (Xicheng District)       │ China Unicom Beijing Province Network      │\n",
      "│ 183.136.225.32  │    59 │ CN      │ Zhejiang              │ Hangzhou                            │ Chinanet                                   │\n",
      "│      ·          │     · │ ·       │    ·                  │    ·                                │    ·                                       │\n",
      "│      ·          │     · │ ·       │    ·                  │    ·                                │    ·                                       │\n",
      "│      ·          │     · │ ·       │    ·                  │    ·                                │    ·                                       │\n",
      "│ 85.239.33.6     │     1 │ MD      │ Chișinău Municipality │ Chisinau                            │ ALEXHOST SRL                               │\n",
      "│ 128.14.225.218  │     1 │ DE      │ Hesse                 │ Frankfurt am Main                   │ UCLOUD INFORMATION TECHNOLOGY (HK) LIMITED │\n",
      "│ 23.239.9.40     │     1 │ US      │ New Jersey            │ Hanover (Cedar Knolls)              │ Akamai Technologies, Inc.                  │\n",
      "│ 50.3.85.30      │     1 │ DE      │ Hesse                 │ Frankfurt am Main (Bornheim/Ostend) │ Eonix Corporation                          │\n",
      "│ 65.49.1.83      │     1 │ US      │ California            │ San Francisco (Bayview)             │ Hurricane Electric LLC                     │\n",
      "│ 65.49.1.84      │     1 │ US      │ California            │ San Francisco (Bayview)             │ Hurricane Electric LLC                     │\n",
      "│ 65.49.1.85      │     1 │ US      │ California            │ San Francisco (Bayview)             │ Hurricane Electric LLC                     │\n",
      "│ 68.183.122.61   │     1 │ US      │ New Jersey            │ North Bergen                        │ DigitalOcean, LLC                          │\n",
      "│ 80.66.83.105    │     1 │ RU      │ Moscow                │ Moscow                              │ XHOST INTERNET SOLUTIONS LP                │\n",
      "│ 81.0.218.29     │     1 │ GB      │ England               │ Portsmouth                          │ Contabo GmbH                               │\n",
      "├─────────────────┴───────┴─────────┴───────────────────────┴─────────────────────────────────────┴────────────────────────────────────────────┤\n",
      "│ 958 rows (20 shown)                                                                                                                6 columns │\n",
      "└──────────────────────────────────────────────────────────────────────────────────────────────────────────────────────────────────────────────┘\n",
      "\n",
      "CPU times: user 49.5 s, sys: 6.73 s, total: 56.2 s\n",
      "Wall time: 9.1 s\n"
     ]
    }
   ],
   "source": [
    "%%time\n",
    "\n",
    "json_input = duckdb.read_json(\"fixed_nextcloud.log.json\")\n",
    "\n",
    "domain_errors = duckdb.sql(\"\"\"\n",
    "                       SELECT *\n",
    "                       FROM json_input\n",
    "                       WHERE message LIKE '%Trusted domain error%'\n",
    "                       -- LIMIT 10\n",
    "                           \"\"\")\n",
    "\n",
    "gby_user_agent = duckdb.sql(\"\"\"\n",
    "                        SELECT CAST(remoteAddr AS INET) AS remoteAddr_inet,\n",
    "                        COUNT(*) AS count\n",
    "                        FROM domain_errors\n",
    "                        WHERE userAgent LIKE '%Macintosh%'\n",
    "                        GROUP BY remoteAddr\n",
    "                        ORDER BY count DESC\n",
    "                             \"\"\")\n",
    "\n",
    "ipv4_city = duckdb.sql(\"\"\"\n",
    "                SELECT * \n",
    "                FROM read_csv('dbip-city-lite-2025-02.csv',\n",
    "                               columns = {\n",
    "                               'ip_start': 'VARCHAR(15)',\n",
    "                               'ip_end': 'VARCHAR(15)', \n",
    "                               'continent': 'VARCHAR(2)',\n",
    "                               'country': 'VARCHAR(2)',\n",
    "                               'stateprov': 'TEXT',\n",
    "                               'city': 'TEXT',\n",
    "                               'latitude': 'FLOAT',\n",
    "                               'longitude': 'FLOAT'\n",
    "                               }, \n",
    "                               header = False,\n",
    "                               ignore_errors = true)\n",
    "                WHERE ip_start LIKE '%.%'\n",
    "                      \"\"\")\n",
    "\n",
    "ipv4_city_subset = duckdb.sql(\"\"\"\n",
    "                        SELECT CAST(ip_start as INET) AS ip_start_inet, \n",
    "                               CAST(ip_end as INET) AS ip_end_inet,\n",
    "                               country,\n",
    "                               stateprov,\n",
    "                               city\n",
    "                        FROM ipv4_city\n",
    "                        -- LIMIT 10\n",
    "                            \"\"\")\n",
    "\n",
    "gby_user_agent_city_join = duckdb.sql(\"\"\"\n",
    "                                SELECT gua.remoteAddr_inet,\n",
    "                                       gua.count,\n",
    "                                       ics.country,\n",
    "                                       ics.stateprov,\n",
    "                                       ics.city\n",
    "                                FROM gby_user_agent gua\n",
    "                                JOIN ipv4_city_subset ics\n",
    "                                ON gua.remoteAddr_inet\n",
    "                                BETWEEN ics.ip_start_inet AND ics.ip_end_inet\n",
    "                                ORDER BY count DESC\n",
    "                                \"\"\")\n",
    "\n",
    "asn = duckdb.sql(\"\"\"\n",
    "                SELECT * \n",
    "                FROM read_csv('dbip-asn-lite-2025-02.csv',\n",
    "                               columns = {\n",
    "                               'ip_start': 'VARCHAR(15)',\n",
    "                               'ip_end': 'VARCHAR(15)',\n",
    "                               'as_number': 'INT',\n",
    "                               'as_org': 'TEXT'                              \n",
    "                               }, \n",
    "                               header = False,\n",
    "                               ignore_errors = true)\n",
    "                WHERE ip_start LIKE '%.%'\n",
    "                      \"\"\")\n",
    "\n",
    "asn_subset = duckdb.sql(\"\"\"\n",
    "                        SELECT CAST(ip_start as INET) AS ip_start_inet, \n",
    "                               CAST(ip_end as INET) AS ip_end_inet,\n",
    "                               as_org,\n",
    "                        FROM asn\n",
    "                        -- LIMIT 10\n",
    "                            \"\"\")\n",
    "\n",
    "gby_user_agent_city_asn_join = duckdb.sql(\"\"\"\n",
    "                                SELECT gua.remoteAddr_inet,\n",
    "                                       gua.count,\n",
    "                                       gua.country,\n",
    "                                       gua.stateprov,\n",
    "                                       gua.city,\n",
    "                                       asn.as_org\n",
    "                                FROM gby_user_agent_city_join gua\n",
    "                                JOIN asn_subset asn\n",
    "                                ON gua.remoteAddr_inet\n",
    "                                BETWEEN asn.ip_start_inet AND asn.ip_end_inet\n",
    "                                ORDER BY count DESC\n",
    "                                \"\"\")\n",
    "\n",
    "print(gby_user_agent_city_asn_join)"
   ]
  },
  {
   "cell_type": "code",
   "execution_count": null,
   "id": "2ee2be0e-d029-4936-ad95-028bb574adb5",
   "metadata": {},
   "outputs": [],
   "source": []
  }
 ],
 "metadata": {
  "kernelspec": {
   "display_name": "Python 3 (ipykernel)",
   "language": "python",
   "name": "python3"
  },
  "language_info": {
   "codemirror_mode": {
    "name": "ipython",
    "version": 3
   },
   "file_extension": ".py",
   "mimetype": "text/x-python",
   "name": "python",
   "nbconvert_exporter": "python",
   "pygments_lexer": "ipython3",
   "version": "3.10.12"
  }
 },
 "nbformat": 4,
 "nbformat_minor": 5
}
