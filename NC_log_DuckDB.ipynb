{
 "cells": [
  {
   "cell_type": "code",
   "execution_count": 1,
   "id": "1e36da9f-a933-46b8-9d0f-362dccacc67f",
   "metadata": {
    "tags": []
   },
   "outputs": [],
   "source": [
    "import duckdb\n",
    "import json"
   ]
  },
  {
   "cell_type": "markdown",
   "id": "58657009-c073-4266-a43a-ed2045f048f8",
   "metadata": {},
   "source": [
    "### Repair JSON input"
   ]
  },
  {
   "cell_type": "code",
   "execution_count": 2,
   "id": "5067dc02-e3ef-4b44-9cd9-313e0771d147",
   "metadata": {
    "tags": []
   },
   "outputs": [],
   "source": [
    "# valid_entries = []\n",
    "# with open(\"nextcloud.log.json\", \"r\", encoding=\"utf-8\") as f:\n",
    "#     for line in f:\n",
    "#         try:\n",
    "#             # Process each line as a JSON object\n",
    "#             valid_entries.append(json.loads(line))  \n",
    "#         except json.JSONDecodeError:\n",
    "#             print(\"Skipping malformed line\")\n",
    "\n",
    "# # Save the repaired JSON\n",
    "# with open(\"fixed_nextcloud.log.json\", \"w\", encoding=\"utf-8\") as f:\n",
    "#     json.dump(valid_entries, f, separators=(',', ':'))"
   ]
  },
  {
   "cell_type": "markdown",
   "id": "e8a13475-9fb5-47cb-ad45-040071255dba",
   "metadata": {},
   "source": [
    "### Ingest data"
   ]
  },
  {
   "cell_type": "code",
   "execution_count": null,
   "id": "2322dec8-794d-42ee-b129-9746a4fd6c04",
   "metadata": {
    "tags": []
   },
   "outputs": [],
   "source": [
    "%%time\n",
    "\n",
    "json_input = duckdb.read_json(\"fixed_nextcloud.log.json\")\n",
    "\n",
    "domain_errors = duckdb.sql(\"\"\"\n",
    "                       SELECT *\n",
    "                       FROM json_input\n",
    "                       WHERE message LIKE '%Trusted domain error%'\n",
    "                       -- LIMIT 10\n",
    "                           \"\"\")\n",
    "\n",
    "gby_user_agent = duckdb.sql(\"\"\"\n",
    "                        SELECT remoteAddr, COUNT(*) AS count\n",
    "                        FROM domain_errors\n",
    "                        WHERE userAgent LIKE '%Macintosh%'\n",
    "                        GROUP BY remoteAddr\n",
    "                        ORDER BY count DESC\n",
    "                             \"\"\").pl()\n",
    "\n",
    "print(gby_user_agent)"
   ]
  },
  {
   "cell_type": "code",
   "execution_count": null,
   "id": "662bcb0a-3842-47cc-8217-a0656ea9abf2",
   "metadata": {
    "tags": []
   },
   "outputs": [],
   "source": []
  }
 ],
 "metadata": {
  "kernelspec": {
   "display_name": "Python 3 (ipykernel)",
   "language": "python",
   "name": "python3"
  },
  "language_info": {
   "codemirror_mode": {
    "name": "ipython",
    "version": 3
   },
   "file_extension": ".py",
   "mimetype": "text/x-python",
   "name": "python",
   "nbconvert_exporter": "python",
   "pygments_lexer": "ipython3",
   "version": "3.10.12"
  }
 },
 "nbformat": 4,
 "nbformat_minor": 5
}
