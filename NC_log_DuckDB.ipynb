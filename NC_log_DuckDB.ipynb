{
 "cells": [
  {
   "cell_type": "code",
   "execution_count": 1,
   "id": "1e36da9f-a933-46b8-9d0f-362dccacc67f",
   "metadata": {
    "tags": []
   },
   "outputs": [],
   "source": [
    "import duckdb\n",
    "#import json"
   ]
  },
  {
   "cell_type": "markdown",
   "id": "58657009-c073-4266-a43a-ed2045f048f8",
   "metadata": {},
   "source": [
    "### Repair JSON input"
   ]
  },
  {
   "cell_type": "code",
   "execution_count": 2,
   "id": "5067dc02-e3ef-4b44-9cd9-313e0771d147",
   "metadata": {
    "tags": []
   },
   "outputs": [],
   "source": [
    "# valid_entries = []\n",
    "# with open(\"nextcloud.log.json\", \"r\", encoding=\"utf-8\") as f:\n",
    "#     for line in f:\n",
    "#         try:\n",
    "#             # Process each line as a JSON object\n",
    "#             valid_entries.append(json.loads(line))  \n",
    "#         except json.JSONDecodeError:\n",
    "#             print(\"Skipping malformed line\")\n",
    "\n",
    "# # Save the repaired JSON\n",
    "# with open(\"fixed_nextcloud.log.json\", \"w\", encoding=\"utf-8\") as f:\n",
    "#     json.dump(valid_entries, f, separators=(',', ':'))"
   ]
  },
  {
   "cell_type": "markdown",
   "id": "e8a13475-9fb5-47cb-ad45-040071255dba",
   "metadata": {},
   "source": [
    "### Ingest and group data"
   ]
  },
  {
   "cell_type": "code",
   "execution_count": 3,
   "id": "2322dec8-794d-42ee-b129-9746a4fd6c04",
   "metadata": {
    "tags": []
   },
   "outputs": [
    {
     "name": "stdout",
     "output_type": "stream",
     "text": [
      "┌─────────────────┬───────┐\n",
      "│ remoteAddr_inet │ count │\n",
      "│      inet       │ int64 │\n",
      "├─────────────────┼───────┤\n",
      "│ 156.38.245.18   │  7102 │\n",
      "│ 103.121.39.54   │  1323 │\n",
      "│ 3.236.57.159    │  1312 │\n",
      "│ 185.231.154.40  │   760 │\n",
      "│ 185.134.23.83   │   229 │\n",
      "│ 199.127.60.228  │   148 │\n",
      "│ 141.98.11.107   │   136 │\n",
      "│ 78.153.140.179  │    90 │\n",
      "│ 148.153.45.234  │    83 │\n",
      "│ 45.149.241.33   │    70 │\n",
      "│       ·         │     · │\n",
      "│       ·         │     · │\n",
      "│       ·         │     · │\n",
      "│ 64.62.197.241   │     1 │\n",
      "│ 64.62.197.161   │     1 │\n",
      "│ 65.49.1.63      │     1 │\n",
      "│ 123.160.221.133 │     1 │\n",
      "│ 64.62.197.203   │     1 │\n",
      "│ 134.209.126.46  │     1 │\n",
      "│ 204.48.23.174   │     1 │\n",
      "│ 107.150.117.103 │     1 │\n",
      "│ 35.92.177.40    │     1 │\n",
      "│ 44.234.45.97    │     1 │\n",
      "├─────────────────┴───────┤\n",
      "│  1073 rows (20 shown)   │\n",
      "└─────────────────────────┘\n",
      "\n",
      "CPU times: user 4.99 s, sys: 460 ms, total: 5.45 s\n",
      "Wall time: 5.36 s\n"
     ]
    }
   ],
   "source": [
    "%%time\n",
    "\n",
    "json_input = duckdb.read_json(\"fixed_nextcloud.log.json\")\n",
    "\n",
    "domain_errors = duckdb.sql(\"\"\"\n",
    "                       SELECT *\n",
    "                       FROM json_input\n",
    "                       WHERE message LIKE '%Trusted domain error%'\n",
    "                       -- LIMIT 10\n",
    "                           \"\"\")\n",
    "\n",
    "gby_user_agent = duckdb.sql(\"\"\"\n",
    "                        SELECT CAST(remoteAddr AS INET) AS remoteAddr_inet,\n",
    "                        COUNT(*) AS count\n",
    "                        FROM domain_errors\n",
    "                        WHERE userAgent LIKE '%Macintosh%'\n",
    "                        GROUP BY remoteAddr\n",
    "                        ORDER BY count DESC\n",
    "                             \"\"\")\n",
    "\n",
    "print(gby_user_agent)"
   ]
  },
  {
   "cell_type": "markdown",
   "id": "c705a890-49a5-4bdb-ac26-4dca5bf5ebbe",
   "metadata": {
    "tags": []
   },
   "source": [
    "### Read IP database and join to group"
   ]
  },
  {
   "cell_type": "code",
   "execution_count": 4,
   "id": "d609a596-4cef-45f5-862e-e14453618407",
   "metadata": {
    "tags": []
   },
   "outputs": [
    {
     "name": "stdout",
     "output_type": "stream",
     "text": [
      "┌─────────────────┬───────┬─────────┬───────────────────────┬───────────────────────────────┐\n",
      "│ remoteAddr_inet │ count │ country │       stateprov       │             city              │\n",
      "│      inet       │ int64 │ varchar │        varchar        │            varchar            │\n",
      "├─────────────────┼───────┼─────────┼───────────────────────┼───────────────────────────────┤\n",
      "│ 156.38.245.18   │  7102 │ ZA      │ Gauteng               │ Johannesburg                  │\n",
      "│ 103.121.39.54   │  1323 │ BD      │ Chittagong            │ Chittagong (Chawk Bazar)      │\n",
      "│ 3.236.57.159    │  1312 │ US      │ Virginia              │ Ashburn                       │\n",
      "│ 185.231.154.40  │   760 │ RU      │ Moscow                │ Moscow                        │\n",
      "│ 185.134.23.83   │   229 │ GB      │ England               │ London                        │\n",
      "│ 141.98.11.107   │   136 │ LT      │ Kaunas                │ Kaunas                        │\n",
      "│ 78.153.140.179  │    90 │ GB      │ England               │ London                        │\n",
      "│ 148.153.45.234  │    83 │ US      │ California            │ Los Angeles                   │\n",
      "│ 123.125.21.148  │    62 │ CN      │ Beijing               │ Jinrongjie (Xicheng District) │\n",
      "│ 183.136.225.32  │    59 │ CN      │ Zhejiang              │ Hangzhou                      │\n",
      "│      ·          │     · │ ·       │    ·                  │    ·                          │\n",
      "│      ·          │     · │ ·       │    ·                  │    ·                          │\n",
      "│      ·          │     · │ ·       │    ·                  │    ·                          │\n",
      "│ 23.239.9.40     │     1 │ US      │ New Jersey            │ Hanover (Cedar Knolls)        │\n",
      "│ 64.62.197.5     │     1 │ US      │ California            │ Fremont (East Industrial)     │\n",
      "│ 77.221.151.35   │     1 │ RU      │ Moscow                │ Moscow                        │\n",
      "│ 138.68.231.161  │     1 │ US      │ California            │ Santa Clara                   │\n",
      "│ 64.62.197.6     │     1 │ US      │ California            │ Fremont (East Industrial)     │\n",
      "│ 64.62.156.43    │     1 │ US      │ California            │ Fremont (East Industrial)     │\n",
      "│ 64.62.156.14    │     1 │ US      │ California            │ Fremont (East Industrial)     │\n",
      "│ 87.120.125.126  │     1 │ NL      │ North Holland         │ Amsterdam                     │\n",
      "│ 85.239.33.117   │     1 │ MD      │ Chișinău Municipality │ Chisinau                      │\n",
      "│ 85.209.11.108   │     1 │ KG      │ Bishkek               │ Bishkek                       │\n",
      "├─────────────────┴───────┴─────────┴───────────────────────┴───────────────────────────────┤\n",
      "│ 962 rows (20 shown)                                                             5 columns │\n",
      "└───────────────────────────────────────────────────────────────────────────────────────────┘\n",
      "\n",
      "CPU times: user 41.6 s, sys: 6.31 s, total: 47.9 s\n",
      "Wall time: 6.1 s\n"
     ]
    }
   ],
   "source": [
    "%%time\n",
    "\n",
    "ipv4_city = duckdb.sql(\"\"\"\n",
    "                SELECT * \n",
    "                FROM read_csv('dbip-city-lite-2025-02.csv',\n",
    "                               columns = {\n",
    "                               'ip_start': 'VARCHAR(15)',\n",
    "                               'ip_end': 'VARCHAR(15)', \n",
    "                               'continent': 'VARCHAR(2)',\n",
    "                               'country': 'VARCHAR(2)',\n",
    "                               'stateprov': 'TEXT',\n",
    "                               'city': 'TEXT',\n",
    "                               'latitude': 'FLOAT',\n",
    "                               'longitude': 'FLOAT'\n",
    "                               }, \n",
    "                               header = False,\n",
    "                               ignore_errors = true)\n",
    "                WHERE ip_start LIKE '%.%'\n",
    "                      \"\"\")\n",
    "\n",
    "ipv4_city_subset = duckdb.sql(\"\"\"\n",
    "                        SELECT CAST(ip_start as INET) AS ip_start_inet, \n",
    "                               CAST(ip_end as INET) AS ip_end_inet,\n",
    "                               country,\n",
    "                               stateprov,\n",
    "                               city\n",
    "                        FROM ipv4_city\n",
    "                        -- LIMIT 10\n",
    "                            \"\"\")\n",
    "\n",
    "gby_user_agent_city_join = duckdb.sql(\"\"\"\n",
    "                                SELECT gua.remoteAddr_inet,\n",
    "                                       gua.count,\n",
    "                                       ics.country,\n",
    "                                       ics.stateprov,\n",
    "                                       ics.city\n",
    "                                FROM gby_user_agent gua\n",
    "                                JOIN ipv4_city_subset ics\n",
    "                                ON gua.remoteAddr_inet\n",
    "                                BETWEEN ics.ip_start_inet AND ics.ip_end_inet\n",
    "                                ORDER BY count DESC\n",
    "                                \"\"\")\n",
    "\n",
    "print(gby_user_agent_city_join)"
   ]
  },
  {
   "cell_type": "code",
   "execution_count": 52,
   "id": "a5fd37c1-3260-45b5-997b-13cef1e24074",
   "metadata": {
    "tags": []
   },
   "outputs": [],
   "source": [
    "#print(ipv4_city_subset)"
   ]
  }
 ],
 "metadata": {
  "kernelspec": {
   "display_name": "Python 3 (ipykernel)",
   "language": "python",
   "name": "python3"
  },
  "language_info": {
   "codemirror_mode": {
    "name": "ipython",
    "version": 3
   },
   "file_extension": ".py",
   "mimetype": "text/x-python",
   "name": "python",
   "nbconvert_exporter": "python",
   "pygments_lexer": "ipython3",
   "version": "3.10.12"
  }
 },
 "nbformat": 4,
 "nbformat_minor": 5
}
