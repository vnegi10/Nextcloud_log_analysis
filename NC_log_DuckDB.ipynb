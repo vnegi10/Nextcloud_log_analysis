{
 "cells": [
  {
   "cell_type": "code",
   "execution_count": 1,
   "id": "1e36da9f-a933-46b8-9d0f-362dccacc67f",
   "metadata": {
    "tags": []
   },
   "outputs": [],
   "source": [
    "import duckdb\n",
    "#import json"
   ]
  },
  {
   "cell_type": "markdown",
   "id": "58657009-c073-4266-a43a-ed2045f048f8",
   "metadata": {},
   "source": [
    "### Repair JSON input"
   ]
  },
  {
   "cell_type": "code",
   "execution_count": 2,
   "id": "5067dc02-e3ef-4b44-9cd9-313e0771d147",
   "metadata": {
    "tags": []
   },
   "outputs": [],
   "source": [
    "valid_entries = []\n",
    "with open(\"nextcloud.log.json\", \"r\", encoding=\"utf-8\") as f:\n",
    "    for line in f:\n",
    "        try:\n",
    "            # Process each line as a JSON object\n",
    "            valid_entries.append(json.loads(line))  \n",
    "        except json.JSONDecodeError:\n",
    "            print(\"Skipping malformed line\")\n",
    "\n",
    "# Save the repaired JSON\n",
    "with open(\"fixed_nextcloud.log.json\", \"w\", encoding=\"utf-8\") as f:\n",
    "    json.dump(valid_entries, f, separators=(',', ':'))"
   ]
  },
  {
   "cell_type": "markdown",
   "id": "e8a13475-9fb5-47cb-ad45-040071255dba",
   "metadata": {},
   "source": [
    "### Ingest and group data"
   ]
  },
  {
   "cell_type": "code",
   "execution_count": 29,
   "id": "2322dec8-794d-42ee-b129-9746a4fd6c04",
   "metadata": {
    "tags": []
   },
   "outputs": [
    {
     "name": "stdout",
     "output_type": "stream",
     "text": [
      "┌─────────────────┬───────┐\n",
      "│ remoteAddr_inet │ count │\n",
      "│      inet       │ int64 │\n",
      "├─────────────────┼───────┤\n",
      "│ 199.195.250.80  │    29 │\n",
      "│ 83.147.52.42    │     4 │\n",
      "│ 87.120.115.119  │     2 │\n",
      "│ 179.43.143.42   │     2 │\n",
      "│ 78.153.140.177  │     2 │\n",
      "│ 78.153.140.179  │     2 │\n",
      "│ 178.215.236.132 │     1 │\n",
      "│ 88.214.26.9     │     1 │\n",
      "│ 54.144.96.170   │     1 │\n",
      "│ 3.215.185.65    │     1 │\n",
      "│ 104.140.148.46  │     1 │\n",
      "│ 87.251.66.220   │     1 │\n",
      "│ 78.153.140.151  │     1 │\n",
      "│ 18.212.3.249    │     1 │\n",
      "│ 194.37.80.250   │     1 │\n",
      "│ 3.82.53.117     │     1 │\n",
      "│ 87.120.115.34   │     1 │\n",
      "│ 94.156.64.214   │     1 │\n",
      "│ 76.8.60.182     │     1 │\n",
      "│ 174.138.62.1    │     1 │\n",
      "│ 207.241.235.133 │     1 │\n",
      "├─────────────────┴───────┤\n",
      "│ 21 rows       2 columns │\n",
      "└─────────────────────────┘\n",
      "\n",
      "CPU times: user 4.94 s, sys: 486 ms, total: 5.43 s\n",
      "Wall time: 5.42 s\n"
     ]
    }
   ],
   "source": [
    "%%time\n",
    "\n",
    "json_input = duckdb.read_json(\"fixed_nextcloud.log.json\")\n",
    "\n",
    "domain_errors = duckdb.sql(\"\"\"\n",
    "                       SELECT *\n",
    "                       FROM json_input\n",
    "                       WHERE message LIKE '%Trusted domain error%'\n",
    "                       -- LIMIT 10\n",
    "                           \"\"\")\n",
    "\n",
    "gby_user_agent = duckdb.sql(\"\"\"\n",
    "                        SELECT CAST(remoteAddr AS INET) AS remoteAddr_inet,\n",
    "                        COUNT(*) AS count\n",
    "                        FROM domain_errors\n",
    "                        WHERE userAgent LIKE '%bot%'\n",
    "                        GROUP BY remoteAddr\n",
    "                        ORDER BY count DESC\n",
    "                             \"\"\")\n",
    "\n",
    "print(gby_user_agent)"
   ]
  },
  {
   "cell_type": "code",
   "execution_count": 32,
   "id": "06552332-3cd6-438c-81fb-f832305b8d30",
   "metadata": {
    "tags": []
   },
   "outputs": [],
   "source": [
    "# domain_errors = duckdb.sql(\"\"\"\n",
    "#                        SELECT time, remoteAddr, userAgent\n",
    "#                        FROM json_input\n",
    "#                        WHERE message LIKE '%Trusted domain error%'\n",
    "#                        AND userAgent LIKE '%bot%'\n",
    "#                        --- LIMIT 10\n",
    "#                            \"\"\")\n",
    "\n",
    "# print(domain_errors)"
   ]
  },
  {
   "cell_type": "code",
   "execution_count": 33,
   "id": "6a6b1d4f-cc6d-4f01-8528-f521c92aa47e",
   "metadata": {
    "tags": []
   },
   "outputs": [],
   "source": [
    "# login_errors = duckdb.sql(\"\"\"\n",
    "#                        SELECT time, remoteAddr, message, \n",
    "#                        FROM json_input\n",
    "#                        WHERE message LIKE '%Login failed%'\n",
    "#                        AND message NOT LIKE '%vnegi10%'\n",
    "#                        AND message NOT LIKE '%mdash%'\n",
    "#                        --- LIMIT 10\n",
    "#                            \"\"\")\n",
    "\n",
    "# print(login_errors)"
   ]
  },
  {
   "cell_type": "markdown",
   "id": "c705a890-49a5-4bdb-ac26-4dca5bf5ebbe",
   "metadata": {
    "tags": []
   },
   "source": [
    "### Read IP database and join to group"
   ]
  },
  {
   "cell_type": "code",
   "execution_count": 23,
   "id": "d609a596-4cef-45f5-862e-e14453618407",
   "metadata": {
    "tags": []
   },
   "outputs": [
    {
     "name": "stdout",
     "output_type": "stream",
     "text": [
      "┌─────────────────┬───────┬─────────┬──────────────────┬──────────────────────────────┐\n",
      "│ remoteAddr_inet │ count │ country │    stateprov     │             city             │\n",
      "│      inet       │ int64 │ varchar │     varchar      │           varchar            │\n",
      "├─────────────────┼───────┼─────────┼──────────────────┼──────────────────────────────┤\n",
      "│ 115.159.220.67  │  1610 │ CN      │ Shanghai         │ Shanghai                     │\n",
      "│ 91.250.240.220  │   166 │ PT      │ Lisbon           │ Lisbon                       │\n",
      "│ 20.163.106.32   │   148 │ US      │ Arizona          │ Phoenix                      │\n",
      "│ 94.102.61.7     │   116 │ NL      │ North Holland    │ Amsterdam                    │\n",
      "│ 185.242.226.109 │    67 │ NL      │ North Holland    │ Amsterdam                    │\n",
      "│ 185.242.226.88  │    54 │ NL      │ North Holland    │ Amsterdam                    │\n",
      "│ 130.211.54.158  │    38 │ BE      │ Brussels Capital │ Brussels                     │\n",
      "│ 34.140.248.32   │    38 │ BE      │ Brussels Capital │ Brussels                     │\n",
      "│ 34.77.127.183   │    37 │ BE      │ Brussels Capital │ Brussels                     │\n",
      "│ 104.199.31.214  │    36 │ BE      │ Brussels Capital │ Brussels                     │\n",
      "│      ·          │     · │ ·       │       ·          │    ·                         │\n",
      "│      ·          │     · │ ·       │       ·          │    ·                         │\n",
      "│      ·          │     · │ ·       │       ·          │    ·                         │\n",
      "│ 185.15.62.7     │     1 │ RU      │ Krasnodar Krai   │ Vysokoye                     │\n",
      "│ 80.66.83.180    │     1 │ RU      │ Moscow           │ Moscow                       │\n",
      "│ 80.94.95.248    │     1 │ BG      │ Sofia-grad       │ Sofia                        │\n",
      "│ 82.203.72.3     │     1 │ GB      │ England          │ London (City of Westminster) │\n",
      "│ 178.128.64.157  │     1 │ US      │ California       │ Santa Clara                  │\n",
      "│ 34.140.159.131  │     1 │ BE      │ Brussels Capital │ Brussels                     │\n",
      "│ 34.140.124.166  │     1 │ BE      │ Brussels Capital │ Brussels                     │\n",
      "│ 34.140.65.158   │     1 │ BE      │ Brussels Capital │ Brussels                     │\n",
      "│ 94.102.61.8     │     1 │ NL      │ North Holland    │ Amsterdam                    │\n",
      "│ 94.102.57.152   │     1 │ NL      │ North Holland    │ Amsterdam                    │\n",
      "├─────────────────┴───────┴─────────┴──────────────────┴──────────────────────────────┤\n",
      "│ 285 rows (20 shown)                                                       5 columns │\n",
      "└─────────────────────────────────────────────────────────────────────────────────────┘\n",
      "\n",
      "CPU times: user 26 s, sys: 5.78 s, total: 31.8 s\n",
      "Wall time: 5.26 s\n"
     ]
    }
   ],
   "source": [
    "%%time\n",
    "\n",
    "ipv4_city = duckdb.sql(\"\"\"\n",
    "                SELECT * \n",
    "                FROM read_csv('dbip-city-lite-2025-02.csv',\n",
    "                               columns = {\n",
    "                               'ip_start': 'VARCHAR(15)',\n",
    "                               'ip_end': 'VARCHAR(15)', \n",
    "                               'continent': 'VARCHAR(2)',\n",
    "                               'country': 'VARCHAR(2)',\n",
    "                               'stateprov': 'TEXT',\n",
    "                               'city': 'TEXT',\n",
    "                               'latitude': 'FLOAT',\n",
    "                               'longitude': 'FLOAT'\n",
    "                               }, \n",
    "                               header = False,\n",
    "                               ignore_errors = true)\n",
    "                WHERE ip_start LIKE '%.%'\n",
    "                      \"\"\")\n",
    "\n",
    "ipv4_city_subset = duckdb.sql(\"\"\"\n",
    "                        SELECT CAST(ip_start as INET) AS ip_start_inet, \n",
    "                               CAST(ip_end as INET) AS ip_end_inet,\n",
    "                               country,\n",
    "                               stateprov,\n",
    "                               city\n",
    "                        FROM ipv4_city\n",
    "                        -- LIMIT 10\n",
    "                            \"\"\")\n",
    "\n",
    "gby_user_agent_city_join = duckdb.sql(\"\"\"\n",
    "                                SELECT gua.remoteAddr_inet,\n",
    "                                       gua.count,\n",
    "                                       ics.country,\n",
    "                                       ics.stateprov,\n",
    "                                       ics.city\n",
    "                                FROM gby_user_agent gua\n",
    "                                JOIN ipv4_city_subset ics\n",
    "                                ON gua.remoteAddr_inet\n",
    "                                BETWEEN ics.ip_start_inet AND ics.ip_end_inet\n",
    "                                ORDER BY count DESC\n",
    "                                \"\"\")\n",
    "\n",
    "print(gby_user_agent_city_join)"
   ]
  },
  {
   "cell_type": "markdown",
   "id": "e09c2fc8-bb92-46c1-b439-684c37abfd8f",
   "metadata": {
    "tags": []
   },
   "source": [
    "### Read ASN database and join to group"
   ]
  },
  {
   "cell_type": "code",
   "execution_count": null,
   "id": "8e03f1f3-3f46-4409-bcbd-fc6fb4e2bbcd",
   "metadata": {},
   "outputs": [],
   "source": []
  },
  {
   "cell_type": "markdown",
   "id": "cbd11802-c543-48a5-aabd-876d4bd3c0ee",
   "metadata": {},
   "source": [
    "### Performance - Full query"
   ]
  },
  {
   "cell_type": "code",
   "execution_count": 28,
   "id": "ef263dce-ebea-4896-8f15-59acbf074f9f",
   "metadata": {
    "tags": []
   },
   "outputs": [],
   "source": [
    "# %%time\n",
    "\n",
    "# json_input = duckdb.read_json(\"fixed_nextcloud.log.json\")\n",
    "\n",
    "# domain_errors = duckdb.sql(\"\"\"\n",
    "#                        SELECT *\n",
    "#                        FROM json_input\n",
    "#                        WHERE message LIKE '%Trusted domain error%'\n",
    "#                        -- LIMIT 10\n",
    "#                            \"\"\")\n",
    "\n",
    "# gby_user_agent = duckdb.sql(\"\"\"\n",
    "#                         SELECT CAST(remoteAddr AS INET) AS remoteAddr_inet,\n",
    "#                         COUNT(*) AS count\n",
    "#                         FROM domain_errors\n",
    "#                         WHERE userAgent LIKE '%Mozilla%'\n",
    "#                         GROUP BY remoteAddr\n",
    "#                         ORDER BY count DESC\n",
    "#                              \"\"\")\n",
    "\n",
    "# ipv4_city = duckdb.sql(\"\"\"\n",
    "#                 SELECT * \n",
    "#                 FROM read_csv('dbip-city-lite-2025-02.csv',\n",
    "#                                columns = {\n",
    "#                                'ip_start': 'VARCHAR(15)',\n",
    "#                                'ip_end': 'VARCHAR(15)', \n",
    "#                                'continent': 'VARCHAR(2)',\n",
    "#                                'country': 'VARCHAR(2)',\n",
    "#                                'stateprov': 'TEXT',\n",
    "#                                'city': 'TEXT',\n",
    "#                                'latitude': 'FLOAT',\n",
    "#                                'longitude': 'FLOAT'\n",
    "#                                }, \n",
    "#                                header = False,\n",
    "#                                ignore_errors = true)\n",
    "#                 WHERE ip_start LIKE '%.%'\n",
    "#                       \"\"\")\n",
    "\n",
    "# ipv4_city_subset = duckdb.sql(\"\"\"\n",
    "#                         SELECT CAST(ip_start as INET) AS ip_start_inet, \n",
    "#                                CAST(ip_end as INET) AS ip_end_inet,\n",
    "#                                country,\n",
    "#                                stateprov,\n",
    "#                                city\n",
    "#                         FROM ipv4_city\n",
    "#                         -- LIMIT 10\n",
    "#                             \"\"\")\n",
    "\n",
    "# gby_user_agent_city_join = duckdb.sql(\"\"\"\n",
    "#                                 SELECT gua.remoteAddr_inet,\n",
    "#                                        gua.count,\n",
    "#                                        ics.country,\n",
    "#                                        ics.stateprov,\n",
    "#                                        ics.city\n",
    "#                                 FROM gby_user_agent gua\n",
    "#                                 JOIN ipv4_city_subset ics\n",
    "#                                 ON gua.remoteAddr_inet\n",
    "#                                 BETWEEN ics.ip_start_inet AND ics.ip_end_inet\n",
    "#                                 ORDER BY count DESC\n",
    "#                                 \"\"\")\n",
    "\n",
    "# print(gby_user_agent_city_join)"
   ]
  },
  {
   "cell_type": "code",
   "execution_count": null,
   "id": "2ee2be0e-d029-4936-ad95-028bb574adb5",
   "metadata": {},
   "outputs": [],
   "source": []
  }
 ],
 "metadata": {
  "kernelspec": {
   "display_name": "Python 3 (ipykernel)",
   "language": "python",
   "name": "python3"
  },
  "language_info": {
   "codemirror_mode": {
    "name": "ipython",
    "version": 3
   },
   "file_extension": ".py",
   "mimetype": "text/x-python",
   "name": "python",
   "nbconvert_exporter": "python",
   "pygments_lexer": "ipython3",
   "version": "3.10.12"
  }
 },
 "nbformat": 4,
 "nbformat_minor": 5
}
